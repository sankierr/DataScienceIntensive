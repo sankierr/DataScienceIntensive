{
 "cells": [
  {
   "cell_type": "markdown",
   "metadata": {},
   "source": [
    "# XML example and exercise\n",
    "****\n",
    "+ study examples of accessing nodes in XML tree structure  \n",
    "+ work on exercise to be completed and submitted\n",
    "****\n",
    "+ reference: https://docs.python.org/2.7/library/xml.etree.elementtree.html\n",
    "+ data source: http://www.dbis.informatik.uni-goettingen.de/Mondial\n",
    "****"
   ]
  },
  {
   "cell_type": "code",
   "execution_count": 12,
   "metadata": {
    "collapsed": true
   },
   "outputs": [],
   "source": [
    "from xml.etree import ElementTree as ET"
   ]
  },
  {
   "cell_type": "markdown",
   "metadata": {},
   "source": [
    "## XML example\n",
    "\n",
    "+ for details about tree traversal and iterators, see https://docs.python.org/2.7/library/xml.etree.elementtree.html"
   ]
  },
  {
   "cell_type": "code",
   "execution_count": 31,
   "metadata": {
    "collapsed": false
   },
   "outputs": [],
   "source": [
    "document_tree = ET.parse( './data/mondial_database_less.xml' )\n",
    "child=document_tree.find('name')\n",
    "child"
   ]
  },
  {
   "cell_type": "code",
   "execution_count": 16,
   "metadata": {
    "collapsed": false
   },
   "outputs": [
    {
     "name": "stdout",
     "output_type": "stream",
     "text": [
      "Albania\n",
      "Greece\n",
      "Macedonia\n",
      "Serbia\n",
      "Montenegro\n",
      "Kosovo\n",
      "Andorra\n"
     ]
    }
   ],
   "source": [
    "# print names of all countries\n",
    "for child in document_tree.getroot():\n",
    "    print (child.find('name').text)"
   ]
  },
  {
   "cell_type": "code",
   "execution_count": 23,
   "metadata": {
    "collapsed": false
   },
   "outputs": [
    {
     "name": "stdout",
     "output_type": "stream",
     "text": [
      "* Albania:\n",
      "Tirana, Shkodër, Durrës, Vlorë, Elbasan, Korçë\n",
      "* Greece:\n",
      "Komotini, Kavala, Athina, Peiraias, Peristeri, Acharnes, Patra, Kozani, Kerkyra, Ioannina, Thessaloniki, Iraklio, Chania, Ermoupoli, Rhodes, Tripoli, Lamia, Chalkida, Larissa, Volos, Mytilini, Karyes\n",
      "* Macedonia:\n",
      "Skopje, Kumanovo\n",
      "* Serbia:\n",
      "Beograd, Novi Sad, Niš\n",
      "* Montenegro:\n",
      "Podgorica\n",
      "* Kosovo:\n",
      "Prishtine\n",
      "* Andorra:\n",
      "Andorra la Vella\n"
     ]
    }
   ],
   "source": [
    "# print names of all countries and their cities\n",
    "for element in document_tree.iterfind('country'):\n",
    "    print ('* ' + element.find('name').text + ':')\n",
    "    #print '* ' + element.find('name').text + ':',\n",
    "    capitals_string = ''\n",
    "    for subelement in element.getiterator('city'):\n",
    "        capitals_string += subelement.find('name').text + ', '\n",
    "    print (capitals_string[:-2])"
   ]
  },
  {
   "cell_type": "markdown",
   "metadata": {},
   "source": [
    "****\n",
    "## XML exercise\n",
    "\n",
    "Using data in 'data/mondial_database.xml', the examples above, and refering to https://docs.python.org/2.7/library/xml.etree.elementtree.html, find\n",
    "\n",
    "1. 10 countries with the lowest infant mortality rates\n",
    "2. 10 cities with the largest population\n",
    "3. 10 ethnic groups with the largest overall populations (sum of best/latest estimates over all countries)\n",
    "4. name and country of a) longest river, b) largest lake and c) airport at highest elevation"
   ]
  },
  {
   "cell_type": "code",
   "execution_count": 67,
   "metadata": {
    "collapsed": false
   },
   "outputs": [],
   "source": [
    "%matplotlib inline\n",
    "import pandas as pd\n",
    "import numpy as np"
   ]
  },
  {
   "cell_type": "code",
   "execution_count": 219,
   "metadata": {
    "collapsed": true
   },
   "outputs": [],
   "source": [
    "document = ET.parse( './data/mondial_database.xml' )"
   ]
  },
  {
   "cell_type": "code",
   "execution_count": 367,
   "metadata": {
    "collapsed": false
   },
   "outputs": [],
   "source": [
    "df=pd.DataFrame(columns=('country', 'infant_mortality'))\n",
    "for element in document.iterfind('country'):\n",
    "    infant_mortality=element.findtext('infant_mortality')\n",
    "    country=element.findtext('name')\n",
    "    row = dict(zip(['country', 'infant_mortality'], [country, infant_mortality]))\n",
    "    row_s=pd.Series(row)\n",
    "    df= df.append(row_s,ignore_index=True)\n",
    "    #df[1]= df.append([infant_mortality])\n",
    "    #df = df.append([infant_mortality],ignore_index='True')\n",
    "    #df = df.append(row2,ignore_index='True')\n",
    "    #print ('* ' + element.find('name').text + ':' + element.find('infant_mortality').text)\n",
    "    "
   ]
  },
  {
   "cell_type": "code",
   "execution_count": 368,
   "metadata": {
    "collapsed": false
   },
   "outputs": [],
   "source": [
    "df['infant_mortality']=df.infant_mortality.astype(float)\n"
   ]
  },
  {
   "cell_type": "code",
   "execution_count": 369,
   "metadata": {
    "collapsed": false
   },
   "outputs": [
    {
     "data": {
      "text/html": [
       "<div>\n",
       "<table border=\"1\" class=\"dataframe\">\n",
       "  <thead>\n",
       "    <tr style=\"text-align: right;\">\n",
       "      <th></th>\n",
       "      <th>country</th>\n",
       "      <th>infant_mortality</th>\n",
       "    </tr>\n",
       "  </thead>\n",
       "  <tbody>\n",
       "    <tr>\n",
       "      <th>38</th>\n",
       "      <td>Monaco</td>\n",
       "      <td>1.81</td>\n",
       "    </tr>\n",
       "    <tr>\n",
       "      <th>98</th>\n",
       "      <td>Japan</td>\n",
       "      <td>2.13</td>\n",
       "    </tr>\n",
       "    <tr>\n",
       "      <th>117</th>\n",
       "      <td>Bermuda</td>\n",
       "      <td>2.48</td>\n",
       "    </tr>\n",
       "    <tr>\n",
       "      <th>36</th>\n",
       "      <td>Norway</td>\n",
       "      <td>2.48</td>\n",
       "    </tr>\n",
       "    <tr>\n",
       "      <th>106</th>\n",
       "      <td>Singapore</td>\n",
       "      <td>2.53</td>\n",
       "    </tr>\n",
       "    <tr>\n",
       "      <th>37</th>\n",
       "      <td>Sweden</td>\n",
       "      <td>2.60</td>\n",
       "    </tr>\n",
       "    <tr>\n",
       "      <th>10</th>\n",
       "      <td>Czech Republic</td>\n",
       "      <td>2.63</td>\n",
       "    </tr>\n",
       "    <tr>\n",
       "      <th>78</th>\n",
       "      <td>Hong Kong</td>\n",
       "      <td>2.73</td>\n",
       "    </tr>\n",
       "    <tr>\n",
       "      <th>79</th>\n",
       "      <td>Macao</td>\n",
       "      <td>3.13</td>\n",
       "    </tr>\n",
       "    <tr>\n",
       "      <th>44</th>\n",
       "      <td>Iceland</td>\n",
       "      <td>3.15</td>\n",
       "    </tr>\n",
       "  </tbody>\n",
       "</table>\n",
       "</div>"
      ],
      "text/plain": [
       "            country  infant_mortality\n",
       "38           Monaco              1.81\n",
       "98            Japan              2.13\n",
       "117         Bermuda              2.48\n",
       "36           Norway              2.48\n",
       "106       Singapore              2.53\n",
       "37           Sweden              2.60\n",
       "10   Czech Republic              2.63\n",
       "78        Hong Kong              2.73\n",
       "79            Macao              3.13\n",
       "44          Iceland              3.15"
      ]
     },
     "execution_count": 369,
     "metadata": {},
     "output_type": "execute_result"
    }
   ],
   "source": [
    "df.sort_values(by='infant_mortality').head(10)"
   ]
  },
  {
   "cell_type": "code",
   "execution_count": 503,
   "metadata": {
    "collapsed": false
   },
   "outputs": [],
   "source": [
    "df_city=pd.DataFrame(columns=('country', 'city','lat','lon','population'))\n",
    "for element in document.iterfind('country'):\n",
    "    #using xpath to find city (select all grand child with city)\n",
    "    for subelement in element.iterfind('*/city'):\n",
    "        country=element.findtext('name')\n",
    "        city = subelement.findtext('name')\n",
    "        lat = subelement.findtext('latitude')\n",
    "        lon = subelement.findtext('longitude')\n",
    "        #for subelement1 in element.iterfind('city'):\n",
    "        #using xpath to find last element in population \n",
    "        population = subelement.findtext('population[last()]')\n",
    "        population=population\n",
    "        row = dict(zip(['country','city','lat','lon','population'], [country,city,lat,lon,population]))\n",
    "        row_s=pd.Series(row)\n",
    "        df_city= df_city.append(row_s,ignore_index=True)\n",
    "    "
   ]
  },
  {
   "cell_type": "code",
   "execution_count": 504,
   "metadata": {
    "collapsed": false
   },
   "outputs": [
    {
     "data": {
      "text/html": [
       "<div>\n",
       "<table border=\"1\" class=\"dataframe\">\n",
       "  <thead>\n",
       "    <tr style=\"text-align: right;\">\n",
       "      <th></th>\n",
       "      <th>country</th>\n",
       "      <th>city</th>\n",
       "      <th>lat</th>\n",
       "      <th>lon</th>\n",
       "      <th>population</th>\n",
       "    </tr>\n",
       "  </thead>\n",
       "  <tbody>\n",
       "    <tr>\n",
       "      <th>1484</th>\n",
       "      <td>India</td>\n",
       "      <td>Chennai</td>\n",
       "      <td>13.0667</td>\n",
       "      <td>80.25</td>\n",
       "      <td>4646732</td>\n",
       "    </tr>\n",
       "  </tbody>\n",
       "</table>\n",
       "</div>"
      ],
      "text/plain": [
       "     country     city      lat    lon population\n",
       "1484   India  Chennai  13.0667  80.25    4646732"
      ]
     },
     "execution_count": 504,
     "metadata": {},
     "output_type": "execute_result"
    }
   ],
   "source": [
    "df_city[df_city.city=='Chennai']"
   ]
  },
  {
   "cell_type": "code",
   "execution_count": 505,
   "metadata": {
    "collapsed": false
   },
   "outputs": [
    {
     "data": {
      "text/html": [
       "<div>\n",
       "<table border=\"1\" class=\"dataframe\">\n",
       "  <thead>\n",
       "    <tr style=\"text-align: right;\">\n",
       "      <th></th>\n",
       "      <th>country</th>\n",
       "      <th>city</th>\n",
       "      <th>lat</th>\n",
       "      <th>lon</th>\n",
       "      <th>population</th>\n",
       "    </tr>\n",
       "  </thead>\n",
       "  <tbody>\n",
       "    <tr>\n",
       "      <th>1278</th>\n",
       "      <td>China</td>\n",
       "      <td>Shanghai</td>\n",
       "      <td>31.2</td>\n",
       "      <td>121.433</td>\n",
       "      <td>22315474.0</td>\n",
       "    </tr>\n",
       "    <tr>\n",
       "      <th>738</th>\n",
       "      <td>Turkey</td>\n",
       "      <td>Istanbul</td>\n",
       "      <td>41.0</td>\n",
       "      <td>28.95</td>\n",
       "      <td>13710512.0</td>\n",
       "    </tr>\n",
       "    <tr>\n",
       "      <th>1455</th>\n",
       "      <td>India</td>\n",
       "      <td>Mumbai</td>\n",
       "      <td>18.9</td>\n",
       "      <td>72.8167</td>\n",
       "      <td>12442373.0</td>\n",
       "    </tr>\n",
       "    <tr>\n",
       "      <th>458</th>\n",
       "      <td>Russia</td>\n",
       "      <td>Moskva</td>\n",
       "      <td>55.7667</td>\n",
       "      <td>37.6667</td>\n",
       "      <td>11979529.0</td>\n",
       "    </tr>\n",
       "    <tr>\n",
       "      <th>1277</th>\n",
       "      <td>China</td>\n",
       "      <td>Beijing</td>\n",
       "      <td>39.5</td>\n",
       "      <td>116.2</td>\n",
       "      <td>11716620.0</td>\n",
       "    </tr>\n",
       "    <tr>\n",
       "      <th>2490</th>\n",
       "      <td>Brazil</td>\n",
       "      <td>São Paulo</td>\n",
       "      <td>-23.55</td>\n",
       "      <td>-46.6333</td>\n",
       "      <td>11152344.0</td>\n",
       "    </tr>\n",
       "    <tr>\n",
       "      <th>1279</th>\n",
       "      <td>China</td>\n",
       "      <td>Tianjin</td>\n",
       "      <td>39.1</td>\n",
       "      <td>117.2</td>\n",
       "      <td>11090314.0</td>\n",
       "    </tr>\n",
       "    <tr>\n",
       "      <th>1001</th>\n",
       "      <td>China</td>\n",
       "      <td>Guangzhou</td>\n",
       "      <td>23</td>\n",
       "      <td>114</td>\n",
       "      <td>11071424.0</td>\n",
       "    </tr>\n",
       "    <tr>\n",
       "      <th>1510</th>\n",
       "      <td>India</td>\n",
       "      <td>Delhi</td>\n",
       "      <td>28.5833</td>\n",
       "      <td>77.2</td>\n",
       "      <td>11034555.0</td>\n",
       "    </tr>\n",
       "    <tr>\n",
       "      <th>1004</th>\n",
       "      <td>China</td>\n",
       "      <td>Shenzhen</td>\n",
       "      <td>22.55</td>\n",
       "      <td>114.1</td>\n",
       "      <td>10358381.0</td>\n",
       "    </tr>\n",
       "  </tbody>\n",
       "</table>\n",
       "</div>"
      ],
      "text/plain": [
       "     country       city      lat       lon  population\n",
       "1278   China   Shanghai     31.2   121.433  22315474.0\n",
       "738   Turkey   Istanbul     41.0     28.95  13710512.0\n",
       "1455   India     Mumbai     18.9   72.8167  12442373.0\n",
       "458   Russia     Moskva  55.7667   37.6667  11979529.0\n",
       "1277   China    Beijing     39.5     116.2  11716620.0\n",
       "2490  Brazil  São Paulo   -23.55  -46.6333  11152344.0\n",
       "1279   China    Tianjin     39.1     117.2  11090314.0\n",
       "1001   China  Guangzhou       23       114  11071424.0\n",
       "1510   India      Delhi  28.5833      77.2  11034555.0\n",
       "1004   China   Shenzhen    22.55     114.1  10358381.0"
      ]
     },
     "execution_count": 505,
     "metadata": {},
     "output_type": "execute_result"
    }
   ],
   "source": [
    "df_city['population']=df_city.population.astype(float)\n",
    "df_city.sort_values(by='population',ascending=False).head(10)"
   ]
  },
  {
   "cell_type": "code",
   "execution_count": 499,
   "metadata": {
    "collapsed": false
   },
   "outputs": [],
   "source": [
    "#10 ethnic groups with the largest overall populations (sum of best/latest estimates over all countries)\n",
    "df_ethnic=pd.DataFrame(columns=('country', 'ethnic','ethnic_population'))\n",
    "for element in document.iterfind('country'):\n",
    "    #using xpath to find city (select all grand child with city)\n",
    "    for ethnicgroup in element.iterfind('ethnicgroup'):\n",
    "        country=element.findtext('name')\n",
    "        ethnic_per = str(ethnicgroup.attrib)#element.findtext('.//ethnicgroup')\n",
    "        ethnic = ethnicgroup.text\n",
    "        population = element.findtext('population[last()]')\n",
    "        population=population\n",
    "        row = dict(zip(['country','ethnic','ethnic_population'], [country,ethnic,round((float(ethnic_per[16:-2])*int(population))/100)]))\n",
    "        row_s=pd.Series(row)\n",
    "        df_ethnic= df_ethnic.append(row_s,ignore_index=True)"
   ]
  },
  {
   "cell_type": "code",
   "execution_count": 500,
   "metadata": {
    "collapsed": false
   },
   "outputs": [
    {
     "data": {
      "text/html": [
       "<div>\n",
       "<table border=\"1\" class=\"dataframe\">\n",
       "  <thead>\n",
       "    <tr style=\"text-align: right;\">\n",
       "      <th></th>\n",
       "      <th>country</th>\n",
       "      <th>ethnic</th>\n",
       "      <th>ethnic_population</th>\n",
       "    </tr>\n",
       "  </thead>\n",
       "  <tbody>\n",
       "    <tr>\n",
       "      <th>220</th>\n",
       "      <td>India</td>\n",
       "      <td>Dravidian</td>\n",
       "      <td>302713744.0</td>\n",
       "    </tr>\n",
       "    <tr>\n",
       "      <th>221</th>\n",
       "      <td>India</td>\n",
       "      <td>Indo-Aryan</td>\n",
       "      <td>871815583.0</td>\n",
       "    </tr>\n",
       "    <tr>\n",
       "      <th>222</th>\n",
       "      <td>India</td>\n",
       "      <td>Mongol</td>\n",
       "      <td>36325649.0</td>\n",
       "    </tr>\n",
       "  </tbody>\n",
       "</table>\n",
       "</div>"
      ],
      "text/plain": [
       "    country      ethnic  ethnic_population\n",
       "220   India   Dravidian        302713744.0\n",
       "221   India  Indo-Aryan        871815583.0\n",
       "222   India      Mongol         36325649.0"
      ]
     },
     "execution_count": 500,
     "metadata": {},
     "output_type": "execute_result"
    }
   ],
   "source": [
    "df_ethnic[df_ethnic.country =='India'].head()\n",
    "#ethnic_per[-5:-2]\n",
    "#ethnic_per=str(ethnic_per)"
   ]
  },
  {
   "cell_type": "code",
   "execution_count": 506,
   "metadata": {
    "collapsed": false
   },
   "outputs": [
    {
     "data": {
      "text/html": [
       "<div>\n",
       "<table border=\"1\" class=\"dataframe\">\n",
       "  <thead>\n",
       "    <tr style=\"text-align: right;\">\n",
       "      <th></th>\n",
       "      <th>country</th>\n",
       "      <th>ethnic</th>\n",
       "      <th>ethnic_population</th>\n",
       "    </tr>\n",
       "  </thead>\n",
       "  <tbody>\n",
       "    <tr>\n",
       "      <th>176</th>\n",
       "      <td>China</td>\n",
       "      <td>Han Chinese</td>\n",
       "      <td>1.245059e+09</td>\n",
       "    </tr>\n",
       "    <tr>\n",
       "      <th>221</th>\n",
       "      <td>India</td>\n",
       "      <td>Indo-Aryan</td>\n",
       "      <td>8.718156e+08</td>\n",
       "    </tr>\n",
       "    <tr>\n",
       "      <th>220</th>\n",
       "      <td>India</td>\n",
       "      <td>Dravidian</td>\n",
       "      <td>3.027137e+08</td>\n",
       "    </tr>\n",
       "    <tr>\n",
       "      <th>345</th>\n",
       "      <td>United States</td>\n",
       "      <td>European</td>\n",
       "      <td>2.549581e+08</td>\n",
       "    </tr>\n",
       "    <tr>\n",
       "      <th>520</th>\n",
       "      <td>Nigeria</td>\n",
       "      <td>African</td>\n",
       "      <td>1.626516e+08</td>\n",
       "    </tr>\n",
       "    <tr>\n",
       "      <th>212</th>\n",
       "      <td>Bangladesh</td>\n",
       "      <td>Bengali</td>\n",
       "      <td>1.467769e+08</td>\n",
       "    </tr>\n",
       "    <tr>\n",
       "      <th>299</th>\n",
       "      <td>Japan</td>\n",
       "      <td>Japanese</td>\n",
       "      <td>1.265342e+08</td>\n",
       "    </tr>\n",
       "    <tr>\n",
       "      <th>93</th>\n",
       "      <td>Russia</td>\n",
       "      <td>Russian</td>\n",
       "      <td>1.146462e+08</td>\n",
       "    </tr>\n",
       "    <tr>\n",
       "      <th>278</th>\n",
       "      <td>Indonesia</td>\n",
       "      <td>Javanese</td>\n",
       "      <td>1.134560e+08</td>\n",
       "    </tr>\n",
       "    <tr>\n",
       "      <th>461</th>\n",
       "      <td>Brazil</td>\n",
       "      <td>European</td>\n",
       "      <td>1.088867e+08</td>\n",
       "    </tr>\n",
       "  </tbody>\n",
       "</table>\n",
       "</div>"
      ],
      "text/plain": [
       "           country       ethnic  ethnic_population\n",
       "176          China  Han Chinese       1.245059e+09\n",
       "221          India   Indo-Aryan       8.718156e+08\n",
       "220          India    Dravidian       3.027137e+08\n",
       "345  United States     European       2.549581e+08\n",
       "520        Nigeria      African       1.626516e+08\n",
       "212     Bangladesh      Bengali       1.467769e+08\n",
       "299          Japan     Japanese       1.265342e+08\n",
       "93          Russia      Russian       1.146462e+08\n",
       "278      Indonesia     Javanese       1.134560e+08\n",
       "461         Brazil     European       1.088867e+08"
      ]
     },
     "execution_count": 506,
     "metadata": {},
     "output_type": "execute_result"
    }
   ],
   "source": [
    "df_ethnic.sort_values(by='ethnic_population',ascending=False).head(10)"
   ]
  },
  {
   "cell_type": "code",
   "execution_count": null,
   "metadata": {
    "collapsed": true
   },
   "outputs": [],
   "source": [
    "country_codes = {}\n",
    "for country in document.findall('country'):\n",
    "    country_codes[country.attrib['car_code']] = country.find('name').text  "
   ]
  },
  {
   "cell_type": "code",
   "execution_count": 625,
   "metadata": {
    "collapsed": false
   },
   "outputs": [],
   "source": [
    "#name and country of a) longest river, b) largest lake and c) airport at highest elevation\n",
    "df_river=pd.DataFrame(columns=('country', 'river','length'))\n",
    "for r in document.iterfind('river'):\n",
    "    river=r.findtext('name')\n",
    "    length=r.findtext('length')\n",
    "    #country_s = str(r.attrib)#element.findtext('.//ethnicgroup')\n",
    "    #country =country_s.rfind(\"country\")\n",
    "    country=country_codes[r.attrib['country'].split(' ')[0]]\n",
    "    row = dict(zip(['country','river','length'], [country,river,length]))\n",
    "    row_s=pd.Series(row)\n",
    "    #row_s.country=row_s.country.find(\"country\", start=0)\n",
    "    df_river= df_river.append(row_s,ignore_index=True)"
   ]
  },
  {
   "cell_type": "code",
   "execution_count": 626,
   "metadata": {
    "collapsed": false
   },
   "outputs": [
    {
     "data": {
      "text/html": [
       "<div>\n",
       "<table border=\"1\" class=\"dataframe\">\n",
       "  <thead>\n",
       "    <tr style=\"text-align: right;\">\n",
       "      <th></th>\n",
       "      <th>country</th>\n",
       "      <th>river</th>\n",
       "      <th>length</th>\n",
       "    </tr>\n",
       "  </thead>\n",
       "  <tbody>\n",
       "    <tr>\n",
       "      <th>174</th>\n",
       "      <td>Colombia</td>\n",
       "      <td>Amazonas</td>\n",
       "      <td>6448.0</td>\n",
       "    </tr>\n",
       "  </tbody>\n",
       "</table>\n",
       "</div>"
      ],
      "text/plain": [
       "      country     river  length\n",
       "174  Colombia  Amazonas  6448.0"
      ]
     },
     "execution_count": 626,
     "metadata": {},
     "output_type": "execute_result"
    }
   ],
   "source": [
    "df_river['length']=df_river.length.astype(float)\n",
    "df_river.sort_values(by='length',ascending=False).head(1)"
   ]
  },
  {
   "cell_type": "code",
   "execution_count": 636,
   "metadata": {
    "collapsed": false
   },
   "outputs": [],
   "source": [
    "df_lake=pd.DataFrame(columns=('country', 'lake','area'))\n",
    "for r in document.iterfind('lake'):\n",
    "    lake=r.findtext('name')\n",
    "    area=r.findtext('area')\n",
    "    #country_s = str(r.attrib)#element.findtext('.//ethnicgroup')\n",
    "    #country =country_s.rfind(\"country\")\n",
    "    country=country_codes[r.attrib['country'].split(' ')[0]]\n",
    "    row = dict(zip(['country','lake','area'], [country,lake,area]))\n",
    "    row_s=pd.Series(row)\n",
    "    #row_s.country=row_s.country.find(\"country\", start=0)\n",
    "    df_lake= df_lake.append(row_s,ignore_index=True)"
   ]
  },
  {
   "cell_type": "code",
   "execution_count": 630,
   "metadata": {
    "collapsed": false
   },
   "outputs": [
    {
     "data": {
      "text/html": [
       "<div>\n",
       "<table border=\"1\" class=\"dataframe\">\n",
       "  <thead>\n",
       "    <tr style=\"text-align: right;\">\n",
       "      <th></th>\n",
       "      <th>country</th>\n",
       "      <th>lake</th>\n",
       "      <th>area</th>\n",
       "    </tr>\n",
       "  </thead>\n",
       "  <tbody>\n",
       "    <tr>\n",
       "      <th>54</th>\n",
       "      <td>Russia</td>\n",
       "      <td>Caspian Sea</td>\n",
       "      <td>386400.0</td>\n",
       "    </tr>\n",
       "  </tbody>\n",
       "</table>\n",
       "</div>"
      ],
      "text/plain": [
       "   country         lake      area\n",
       "54  Russia  Caspian Sea  386400.0"
      ]
     },
     "execution_count": 630,
     "metadata": {},
     "output_type": "execute_result"
    }
   ],
   "source": [
    "df_lake['area']=df_lake.area.astype(float)\n",
    "df_lake.sort_values(by='area',ascending=False).head(1)"
   ]
  },
  {
   "cell_type": "code",
   "execution_count": 683,
   "metadata": {
    "collapsed": false
   },
   "outputs": [],
   "source": [
    "df_airport=pd.DataFrame(columns=('country', 'airport','elevation'))\n",
    "for r in document.iterfind('airport'):\n",
    "    airport=r.findtext('name')\n",
    "    elevation=r.findtext('elevation')\n",
    "    #country_s = str(r.attrib)#element.findtext('.//ethnicgroup')\n",
    "    #country =country_s.rfind(\"country\")\n",
    "    country=country_codes[r.attrib['country'].split(' ')[0]]\n",
    "    row = dict(zip(['country','airport','elevation'], [country,airport,elevation]))\n",
    "    row_s=pd.Series(row)\n",
    "    #row_s.country=row_s.country.find(\"country\", start=0)\n",
    "    df_airport= df_airport.append(row_s,ignore_index=True)"
   ]
  },
  {
   "cell_type": "code",
   "execution_count": 698,
   "metadata": {
    "collapsed": false
   },
   "outputs": [
    {
     "data": {
      "text/html": [
       "<div>\n",
       "<table border=\"1\" class=\"dataframe\">\n",
       "  <thead>\n",
       "    <tr style=\"text-align: right;\">\n",
       "      <th></th>\n",
       "      <th>country</th>\n",
       "      <th>airport</th>\n",
       "      <th>elevation</th>\n",
       "    </tr>\n",
       "  </thead>\n",
       "  <tbody>\n",
       "    <tr>\n",
       "      <th>80</th>\n",
       "      <td>Bolivia</td>\n",
       "      <td>El Alto Intl</td>\n",
       "      <td>4063.0</td>\n",
       "    </tr>\n",
       "  </tbody>\n",
       "</table>\n",
       "</div>"
      ],
      "text/plain": [
       "    country       airport  elevation\n",
       "80  Bolivia  El Alto Intl     4063.0"
      ]
     },
     "execution_count": 698,
     "metadata": {},
     "output_type": "execute_result"
    }
   ],
   "source": [
    "df_airport['elevation'][df_airport.elevation=='']='0'\n",
    "df_airport['elevation']=df_airport.elevation.astype(float)\n",
    "df_airport.sort_values(by='elevation',ascending=False).head(1)"
   ]
  }
 ],
 "metadata": {
  "anaconda-cloud": {},
  "kernelspec": {
   "display_name": "Python [Root]",
   "language": "python",
   "name": "Python [Root]"
  },
  "language_info": {
   "codemirror_mode": {
    "name": "ipython",
    "version": 3
   },
   "file_extension": ".py",
   "mimetype": "text/x-python",
   "name": "python",
   "nbconvert_exporter": "python",
   "pygments_lexer": "ipython3",
   "version": "3.5.2"
  }
 },
 "nbformat": 4,
 "nbformat_minor": 0
}
